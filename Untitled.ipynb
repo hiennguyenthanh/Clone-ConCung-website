{
 "cells": [
  {
   "cell_type": "code",
   "execution_count": 1,
   "id": "5f437a37",
   "metadata": {},
   "outputs": [],
   "source": [
    "from selenium import webdriver\n",
    "from selenium.webdriver.chrome.service import Service\n",
    "from selenium.webdriver.common.by import By\n",
    "from selenium.webdriver.support.ui import WebDriverWait\n",
    "from selenium.webdriver.support import expected_conditions as EC\n",
    "from selenium.webdriver.common.action_chains import ActionChains\n",
    "import copy\n",
    "import time\n",
    "import pyodbc "
   ]
  },
  {
   "cell_type": "code",
   "execution_count": 2,
   "id": "b5e9e1aa",
   "metadata": {},
   "outputs": [],
   "source": [
    "# conn = pyodbc.connect('Driver={SQL Server};'\n",
    "#                       'Server=DESKTOP-642FBA3\\HIEN;'\n",
    "#                       'Database=ConCung;'\n",
    "#                       'Trusted_Connection=yes;')\n",
    " \n",
    "# cursor = conn.cursor()\n",
    "\n",
    "\n",
    "PATH = 'C:\\Program Files (x86)\\chromedriver.exe'\n",
    "op = webdriver.ChromeOptions()\n",
    "ser = Service(PATH)\n"
   ]
  },
  {
   "cell_type": "code",
   "execution_count": 17,
   "id": "74dce3e4",
   "metadata": {},
   "outputs": [
    {
     "ename": "IndentationError",
     "evalue": "expected an indented block (Temp/ipykernel_2552/224650924.py, line 88)",
     "output_type": "error",
     "traceback": [
      "\u001b[1;36m  File \u001b[1;32m\"C:\\Users\\VQ\\AppData\\Local\\Temp/ipykernel_2552/224650924.py\"\u001b[1;36m, line \u001b[1;32m88\u001b[0m\n\u001b[1;33m    writer.write('\"state\":' + str(state) + ',')\u001b[0m\n\u001b[1;37m    ^\u001b[0m\n\u001b[1;31mIndentationError\u001b[0m\u001b[1;31m:\u001b[0m expected an indented block\n"
     ]
    }
   ],
   "source": [
    "driver = webdriver.Chrome(PATH)\n",
    "# (service = ser,options=op\n",
    "\n",
    "url = 'https://concung.com/bim-ta-khuyen-mai/combo-3-goi-bim-ta-quan-nhat-ban-cao-cap-genki-xxl-26-mieng-48982.html'\n",
    "\n",
    "driver.get(url)\n",
    "\n",
    "script_1 =\"document.querySelector('#shop-box-app-open div div span').click();\"\n",
    "\n",
    "driver.execute_script(script_1)\n",
    "time.sleep(1)\n",
    "\n",
    "Products = []\n",
    "\n",
    "prod = {}\n",
    "\n",
    "Name = driver.find_element(By.CLASS_NAME,'product-name').text\n",
    "Price = driver.find_element(By.CLASS_NAME,'product-price').text\n",
    "Images = []\n",
    "img_el = driver.find_elements(By.CSS_SELECTOR,'.slick-track >.slick-slide > div > .thumb-img > img')[:3]\n",
    "for image in img_el:\n",
    "    Images.append(image.get_attribute('src'))\n",
    "\n",
    "# prodRating = driver.find_element(By.CLASS_NAME,'product-name')\n",
    "\n",
    "script = \"document.querySelector('#content-product').scrollIntoView({behavior: 'smooth', block: 'end', inline: 'nearest'});\"\n",
    "driver.execute_script(script)\n",
    "time.sleep(1)\n",
    "\n",
    "tableRows = driver.find_elements(By.CSS_SELECTOR,'.table tbody tr')\n",
    "\n",
    "Brand = ''\n",
    "Origin = ''\n",
    "Size = ''\n",
    "Count = ''\n",
    "Component = ''\n",
    "UserGuide = ''\n",
    "\n",
    "for i in tableRows:\n",
    "    if ('Thương hiệu' in i.text):\n",
    "        Brand = i.text.replace('Thương hiệu ','')\n",
    "        continue\n",
    "    if ('Xuất xứ sản phẩm' in i.text):\n",
    "        Origin = i.text.replace('Xuất xứ sản phẩm ','')\n",
    "        continue\n",
    "    if ('Kích cỡ' in i.text):\n",
    "        Size = i.text.replace('Kích cỡ (size) ','')\n",
    "        continue\n",
    "    if ('Số miếng' in i.text):\n",
    "        Count = i.text.replace('Số miếng ','')\n",
    "        continue\n",
    "    if ('Thành phần' in i.text):\n",
    "        Component = i.text.replace('Thành phần ','')\n",
    "        continue\n",
    "    if ('Hướng dẫn sử dụng' in i.text):\n",
    "        UserGuide = i.text.replace('Hướng dẫn sử dụng ','')\n",
    "        continue\n",
    "script =\"document.querySelector('.text-center > .btn').click();\"\n",
    "driver.execute_script(script)\n",
    "time.sleep(1)\n",
    "Description = driver.find_element(By.CLASS_NAME,'content-product').text\n",
    "\n",
    "# prod['Name'] = Name\n",
    "# prod['Price'] = Price\n",
    "# prod['Images'] = Images\n",
    "# prod['Brand'] = Brand\n",
    "# prod['Origin'] = Origin\n",
    "# prod['Size'] = Size\n",
    "# prod['Count'] = Count\n",
    "# prod['Component'] = Component \n",
    "# prod['UserGuide'] = UserGuide \n",
    "# prod['Description'] = Description \n",
    "\n",
    "with open('courses.txt', 'w', encoding='utf-8') as writer:\n",
    "    # writer.write('\"Name\":' + '\"' + Name + '\"' + ',')\n",
    "    # writer.write('\"Price\":' + '\"' + Price + '\"' + ',') \n",
    "#     writer.write('\"Images\":' + '[')\n",
    "    for image in Images:\n",
    "    # writer.write('\"curriculumTime\":' + str(curriculumTime) + ',')\n",
    "    # writer.write('\"curriculumName\":' + str(curriculumName) + ',')\n",
    "    # writer.write('\"level\":' + '\"' + level + '\"' + ',')\n",
    "    # writer.write('\"totalLession\":' + '\"' + totalLession + '\"' + ',')\n",
    "    # writer.write('\"totalTime\":' + '\"' + totalTime + '\"' + ',')\n",
    "    # writer.write('\"url\":' + '\"' + image + '\"' + ',')\n",
    "    # writer.write('\"links\":' + str(links) + ',')\n",
    "    # writer.write('\"curriculumGroupName\":' + str(curriculumGroupName) + ',')\n",
    "    # writer.write('\"demand\":' + str(demand.split('\\n')) + ',')\n",
    "    writer.write('\"state\":' + str(state) + ',')\n",
    "\n",
    "Products.append(prod)\n",
    "    \n",
    "f = open('Products/Diapers.txt','w')\n",
    "for i in Products:\n",
    "    f.write(i)\n",
    "f.close()"
   ]
  },
  {
   "cell_type": "code",
   "execution_count": 24,
   "id": "831c78ab",
   "metadata": {},
   "outputs": [
    {
     "name": "stdout",
     "output_type": "stream",
     "text": [
      "{'name': 'hien', 'age': 18, 'arr': [1, 2, 3]}\n"
     ]
    }
   ],
   "source": [
    "a = {}\n",
    "a['name']= 'hien'\n",
    "a['age'] = 18\n",
    "a['arr']=[1,2,3]\n",
    "print(a)"
   ]
  },
  {
   "cell_type": "code",
   "execution_count": 13,
   "id": "d8b91e4b",
   "metadata": {},
   "outputs": [],
   "source": [
    "f = open('Products/Diapers.txt','w')\n",
    "f.write(\"hien is here\")\n",
    "f.close()"
   ]
  },
  {
   "cell_type": "code",
   "execution_count": null,
   "id": "b52f07af",
   "metadata": {},
   "outputs": [],
   "source": []
  }
 ],
 "metadata": {
  "kernelspec": {
   "display_name": "Python 3 (ipykernel)",
   "language": "python",
   "name": "python3"
  },
  "language_info": {
   "codemirror_mode": {
    "name": "ipython",
    "version": 3
   },
   "file_extension": ".py",
   "mimetype": "text/x-python",
   "name": "python",
   "nbconvert_exporter": "python",
   "pygments_lexer": "ipython3",
   "version": "3.8.8"
  }
 },
 "nbformat": 4,
 "nbformat_minor": 5
}

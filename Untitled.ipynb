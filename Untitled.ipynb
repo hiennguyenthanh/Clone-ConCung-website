{
 "cells": [
  {
   "cell_type": "code",
   "execution_count": 1,
   "id": "5f437a37",
   "metadata": {},
   "outputs": [],
   "source": [
    "from selenium import webdriver\n",
    "from selenium.webdriver.chrome.service import Service\n",
    "from selenium.webdriver.common.by import By\n",
    "from selenium.webdriver.support.ui import WebDriverWait\n",
    "from selenium.webdriver.support import expected_conditions as EC\n",
    "from selenium.webdriver.common.action_chains import ActionChains\n",
    "import copy\n",
    "import time\n",
    "import pyodbc "
   ]
  },
  {
   "cell_type": "code",
   "execution_count": 2,
   "id": "b5e9e1aa",
   "metadata": {},
   "outputs": [],
   "source": [
    "# conn = pyodbc.connect('Driver={SQL Server};'\n",
    "#                       'Server=DESKTOP-642FBA3\\HIEN;'\n",
    "#                       'Database=ConCung;'\n",
    "#                       'Trusted_Connection=yes;')\n",
    " \n",
    "# cursor = conn.cursor()\n",
    "\n",
    "\n",
    "PATH = 'C:\\Program Files (x86)\\chromedriver.exe'\n",
    "op = webdriver.ChromeOptions()\n",
    "ser = Service(PATH)\n"
   ]
  },
  {
   "cell_type": "code",
   "execution_count": 22,
   "id": "74dce3e4",
   "metadata": {},
   "outputs": [
    {
     "name": "stdout",
     "output_type": "stream",
     "text": [
      "https://cdn.concung.com/2020/11/49087-68830-large_mobile/combo-3-goi-bim-ta-quan-merries-xl-12-22kg-38-mieng.jpg\n",
      "https://cdn.concung.com/2022/02/49087-81177-large_mobile/combo-3-goi-bim-ta-quan-merries-xl-12-22kg-38-mieng.jpg\n",
      "https://cdn.concung.com/2022/02/49087-81178-large_mobile/combo-3-goi-bim-ta-quan-merries-xl-12-22kg-38-mieng.jpg\n",
      "3\n"
     ]
    }
   ],
   "source": [
    "driver = webdriver.Chrome(PATH)\n",
    "# (service = ser,options=op\n",
    "\n",
    "url = 'https://concung.com/bim-ta-khuyen-mai/combo-3-goi-bim-ta-quan-merries-xl-12-22kg-38-mieng-49087.html'\n",
    "\n",
    "driver.get(url)\n",
    "\n",
    "script_1 =\"document.querySelector('#shop-box-app-open div div span').click();\"\n",
    "\n",
    "driver.execute_script(script_1)\n",
    "time.sleep(1)\n",
    "\n",
    "# script = \"document.querySelector('')\"\n",
    "# driver.execute_script(script)\n",
    "Images = driver.find_elements(By.CSS_SELECTOR,'.slick-track >.slick-slide > div > .thumb-img > img')[:3]\n",
    "for i in Images:\n",
    "    print(i.get_attribute('src'))\n",
    "print(len(Images))\n",
    "# time.sleep(1)\n",
    "driver.close()"
   ]
  },
  {
   "cell_type": "code",
   "execution_count": 24,
   "id": "831c78ab",
   "metadata": {},
   "outputs": [
    {
     "name": "stdout",
     "output_type": "stream",
     "text": [
      "{'name': 'hien', 'age': 18, 'arr': [1, 2, 3]}\n"
     ]
    }
   ],
   "source": [
    "a = {}\n",
    "a['name']= 'hien'\n",
    "a['age'] = 18\n",
    "a['arr']=[1,2,3]\n",
    "print(a)"
   ]
  }
 ],
 "metadata": {
  "kernelspec": {
   "display_name": "Python 3 (ipykernel)",
   "language": "python",
   "name": "python3"
  },
  "language_info": {
   "codemirror_mode": {
    "name": "ipython",
    "version": 3
   },
   "file_extension": ".py",
   "mimetype": "text/x-python",
   "name": "python",
   "nbconvert_exporter": "python",
   "pygments_lexer": "ipython3",
   "version": "3.8.8"
  }
 },
 "nbformat": 4,
 "nbformat_minor": 5
}

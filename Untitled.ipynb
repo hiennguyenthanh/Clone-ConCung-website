{
 "cells": [
  {
   "cell_type": "code",
   "execution_count": 14,
   "id": "5f437a37",
   "metadata": {},
   "outputs": [],
   "source": [
    "from selenium import webdriver\n",
    "from selenium.webdriver.chrome.service import Service\n",
    "from selenium.webdriver.common.by import By\n",
    "from selenium.webdriver.support.ui import WebDriverWait\n",
    "from selenium.webdriver.support import expected_conditions as EC\n",
    "from selenium.webdriver.common.action_chains import ActionChains\n",
    "from selenium.common.exceptions import NoSuchElementException\n",
    "import copy\n",
    "import time\n",
    "import pyodbc "
   ]
  },
  {
   "cell_type": "code",
   "execution_count": 2,
   "id": "b5e9e1aa",
   "metadata": {},
   "outputs": [],
   "source": [
    "# conn = pyodbc.connect('Driver={SQL Server};'\n",
    "#                       'Server=DESKTOP-642FBA3\\HIEN;'\n",
    "#                       'Database=ConCung;'\n",
    "#                       'Trusted_Connection=yes;')\n",
    " \n",
    "# cursor = conn.cursor()\n",
    "\n",
    "\n",
    "PATH = 'C:\\Program Files (x86)\\chromedriver.exe'\n",
    "op = webdriver.ChromeOptions()\n",
    "ser = Service(PATH)\n"
   ]
  },
  {
   "cell_type": "code",
   "execution_count": 15,
   "id": "74dce3e4",
   "metadata": {},
   "outputs": [
    {
     "name": "stdout",
     "output_type": "stream",
     "text": [
      "cannotot found\n"
     ]
    },
    {
     "ename": "JavascriptException",
     "evalue": "Message: javascript error: Cannot read properties of null (reading 'scrollIntoView')\n  (Session info: chrome=99.0.4844.51)\n",
     "output_type": "error",
     "traceback": [
      "\u001b[1;31m---------------------------------------------------------------------------\u001b[0m",
      "\u001b[1;31mJavascriptException\u001b[0m                       Traceback (most recent call last)",
      "\u001b[1;32m~\\AppData\\Local\\Temp/ipykernel_8376/4037869625.py\u001b[0m in \u001b[0;36m<module>\u001b[1;34m\u001b[0m\n\u001b[0;32m     28\u001b[0m \u001b[1;33m\u001b[0m\u001b[0m\n\u001b[0;32m     29\u001b[0m \u001b[0mscript\u001b[0m \u001b[1;33m=\u001b[0m \u001b[1;34m\"document.querySelector('#content-product').scrollIntoView({behavior: 'smooth', block: 'end', inline: 'nearest'});\"\u001b[0m\u001b[1;33m\u001b[0m\u001b[1;33m\u001b[0m\u001b[0m\n\u001b[1;32m---> 30\u001b[1;33m \u001b[0mdriver\u001b[0m\u001b[1;33m.\u001b[0m\u001b[0mexecute_script\u001b[0m\u001b[1;33m(\u001b[0m\u001b[0mscript\u001b[0m\u001b[1;33m)\u001b[0m\u001b[1;33m\u001b[0m\u001b[1;33m\u001b[0m\u001b[0m\n\u001b[0m\u001b[0;32m     31\u001b[0m \u001b[0mtime\u001b[0m\u001b[1;33m.\u001b[0m\u001b[0msleep\u001b[0m\u001b[1;33m(\u001b[0m\u001b[1;36m1\u001b[0m\u001b[1;33m)\u001b[0m\u001b[1;33m\u001b[0m\u001b[1;33m\u001b[0m\u001b[0m\n\u001b[0;32m     32\u001b[0m \u001b[1;33m\u001b[0m\u001b[0m\n",
      "\u001b[1;32m~\\miniconda3\\envs\\min_ds-env\\lib\\site-packages\\selenium\\webdriver\\remote\\webdriver.py\u001b[0m in \u001b[0;36mexecute_script\u001b[1;34m(self, script, *args)\u001b[0m\n\u001b[0;32m    632\u001b[0m             \u001b[0mcommand\u001b[0m \u001b[1;33m=\u001b[0m \u001b[0mCommand\u001b[0m\u001b[1;33m.\u001b[0m\u001b[0mEXECUTE_SCRIPT\u001b[0m\u001b[1;33m\u001b[0m\u001b[1;33m\u001b[0m\u001b[0m\n\u001b[0;32m    633\u001b[0m \u001b[1;33m\u001b[0m\u001b[0m\n\u001b[1;32m--> 634\u001b[1;33m         return self.execute(command, {\n\u001b[0m\u001b[0;32m    635\u001b[0m             \u001b[1;34m'script'\u001b[0m\u001b[1;33m:\u001b[0m \u001b[0mscript\u001b[0m\u001b[1;33m,\u001b[0m\u001b[1;33m\u001b[0m\u001b[1;33m\u001b[0m\u001b[0m\n\u001b[0;32m    636\u001b[0m             'args': converted_args})['value']\n",
      "\u001b[1;32m~\\miniconda3\\envs\\min_ds-env\\lib\\site-packages\\selenium\\webdriver\\remote\\webdriver.py\u001b[0m in \u001b[0;36mexecute\u001b[1;34m(self, driver_command, params)\u001b[0m\n\u001b[0;32m    319\u001b[0m         \u001b[0mresponse\u001b[0m \u001b[1;33m=\u001b[0m \u001b[0mself\u001b[0m\u001b[1;33m.\u001b[0m\u001b[0mcommand_executor\u001b[0m\u001b[1;33m.\u001b[0m\u001b[0mexecute\u001b[0m\u001b[1;33m(\u001b[0m\u001b[0mdriver_command\u001b[0m\u001b[1;33m,\u001b[0m \u001b[0mparams\u001b[0m\u001b[1;33m)\u001b[0m\u001b[1;33m\u001b[0m\u001b[1;33m\u001b[0m\u001b[0m\n\u001b[0;32m    320\u001b[0m         \u001b[1;32mif\u001b[0m \u001b[0mresponse\u001b[0m\u001b[1;33m:\u001b[0m\u001b[1;33m\u001b[0m\u001b[1;33m\u001b[0m\u001b[0m\n\u001b[1;32m--> 321\u001b[1;33m             \u001b[0mself\u001b[0m\u001b[1;33m.\u001b[0m\u001b[0merror_handler\u001b[0m\u001b[1;33m.\u001b[0m\u001b[0mcheck_response\u001b[0m\u001b[1;33m(\u001b[0m\u001b[0mresponse\u001b[0m\u001b[1;33m)\u001b[0m\u001b[1;33m\u001b[0m\u001b[1;33m\u001b[0m\u001b[0m\n\u001b[0m\u001b[0;32m    322\u001b[0m             response['value'] = self._unwrap_value(\n\u001b[0;32m    323\u001b[0m                 response.get('value', None))\n",
      "\u001b[1;32m~\\miniconda3\\envs\\min_ds-env\\lib\\site-packages\\selenium\\webdriver\\remote\\errorhandler.py\u001b[0m in \u001b[0;36mcheck_response\u001b[1;34m(self, response)\u001b[0m\n\u001b[0;32m    240\u001b[0m                 \u001b[0malert_text\u001b[0m \u001b[1;33m=\u001b[0m \u001b[0mvalue\u001b[0m\u001b[1;33m[\u001b[0m\u001b[1;34m'alert'\u001b[0m\u001b[1;33m]\u001b[0m\u001b[1;33m.\u001b[0m\u001b[0mget\u001b[0m\u001b[1;33m(\u001b[0m\u001b[1;34m'text'\u001b[0m\u001b[1;33m)\u001b[0m\u001b[1;33m\u001b[0m\u001b[1;33m\u001b[0m\u001b[0m\n\u001b[0;32m    241\u001b[0m             \u001b[1;32mraise\u001b[0m \u001b[0mexception_class\u001b[0m\u001b[1;33m(\u001b[0m\u001b[0mmessage\u001b[0m\u001b[1;33m,\u001b[0m \u001b[0mscreen\u001b[0m\u001b[1;33m,\u001b[0m \u001b[0mstacktrace\u001b[0m\u001b[1;33m,\u001b[0m \u001b[0malert_text\u001b[0m\u001b[1;33m)\u001b[0m\u001b[1;33m\u001b[0m\u001b[1;33m\u001b[0m\u001b[0m\n\u001b[1;32m--> 242\u001b[1;33m         \u001b[1;32mraise\u001b[0m \u001b[0mexception_class\u001b[0m\u001b[1;33m(\u001b[0m\u001b[0mmessage\u001b[0m\u001b[1;33m,\u001b[0m \u001b[0mscreen\u001b[0m\u001b[1;33m,\u001b[0m \u001b[0mstacktrace\u001b[0m\u001b[1;33m)\u001b[0m\u001b[1;33m\u001b[0m\u001b[1;33m\u001b[0m\u001b[0m\n\u001b[0m\u001b[0;32m    243\u001b[0m \u001b[1;33m\u001b[0m\u001b[0m\n\u001b[0;32m    244\u001b[0m     \u001b[1;32mdef\u001b[0m \u001b[0m_value_or_default\u001b[0m\u001b[1;33m(\u001b[0m\u001b[0mself\u001b[0m\u001b[1;33m,\u001b[0m \u001b[0mobj\u001b[0m\u001b[1;33m,\u001b[0m \u001b[0mkey\u001b[0m\u001b[1;33m,\u001b[0m \u001b[0mdefault\u001b[0m\u001b[1;33m)\u001b[0m\u001b[1;33m:\u001b[0m\u001b[1;33m\u001b[0m\u001b[1;33m\u001b[0m\u001b[0m\n",
      "\u001b[1;31mJavascriptException\u001b[0m: Message: javascript error: Cannot read properties of null (reading 'scrollIntoView')\n  (Session info: chrome=99.0.4844.51)\n"
     ]
    }
   ],
   "source": [
    "driver = webdriver.Chrome(PATH)\n",
    "# (service = ser,options=op\n",
    "\n",
    "url = 'https://concung.com/khuyen-mai-don-hang-27882.html'\n",
    "\n",
    "driver.get(url)\n",
    "\n",
    "script_1 =\"document.querySelector('#shop-box-app-open div div span').click();\"\n",
    "\n",
    "driver.execute_script(script_1)\n",
    "time.sleep(1)\n",
    "\n",
    "Products = []\n",
    "\n",
    "prod = {}\n",
    "\n",
    "try:\n",
    "    Name = driver.find_element(By.CLASS_NAME,'product-name').text\n",
    "except NoSuchElementException:\n",
    "    print('cannotot found')\n",
    "Price = driver.find_element(By.CLASS_NAME,'product-price').text\n",
    "Images = []\n",
    "img_el = driver.find_elements(By.CSS_SELECTOR,'.slick-track >.slick-slide > div > .thumb-img > img')[:3]\n",
    "for image in img_el:\n",
    "    Images.append(image.get_attribute('src'))\n",
    "\n",
    "# prodRating = driver.find_element(By.CLASS_NAME,'product-name')\n",
    "\n",
    "script = \"document.querySelector('#content-product').scrollIntoView({behavior: 'smooth', block: 'end', inline: 'nearest'});\"\n",
    "driver.execute_script(script)\n",
    "time.sleep(1)\n",
    "\n",
    "tableRows = driver.find_elements(By.CSS_SELECTOR,'.table tbody tr')\n",
    "\n",
    "Brand = ''\n",
    "Origin = ''\n",
    "Size = ''\n",
    "Count = ''\n",
    "Component = ''\n",
    "UserGuide = ''\n",
    "\n",
    "for i in tableRows:\n",
    "    if ('Thương hiệu' in i.text):\n",
    "        Brand = i.text.replace('Thương hiệu ','')\n",
    "        continue\n",
    "    if ('Xuất xứ sản phẩm' in i.text):\n",
    "        Origin = i.text.replace('Xuất xứ sản phẩm ','')\n",
    "        continue\n",
    "    if ('Kích cỡ' in i.text):\n",
    "        Size = i.text.replace('Kích cỡ (size) ','')\n",
    "        continue\n",
    "    if ('Số miếng' in i.text):\n",
    "        Count = i.text.replace('Số miếng ','')\n",
    "        continue\n",
    "    if ('Thành phần' in i.text):\n",
    "        Component = i.text.replace('Thành phần ','')\n",
    "        continue\n",
    "    if ('Hướng dẫn sử dụng' in i.text):\n",
    "        UserGuide = i.text.replace('Hướng dẫn sử dụng ','')\n",
    "        continue\n",
    "script =\"document.querySelector('.text-center > .btn').click();\"\n",
    "driver.execute_script(script)\n",
    "time.sleep(1)\n",
    "Description = driver.find_element(By.CLASS_NAME,'content-product').text\n",
    "\n",
    "# prod['Name'] = Name\n",
    "# prod['Price'] = Price\n",
    "# prod['Images'] = Images\n",
    "# prod['Brand'] = Brand\n",
    "# prod['Origin'] = Origin\n",
    "# prod['Size'] = Size\n",
    "# prod['Count'] = Count\n",
    "# prod['Component'] = Component \n",
    "# prod['UserGuide'] = UserGuide \n",
    "# prod['Description'] = Description \n",
    "\n",
    "with open('test.txt', 'w', encoding='utf-8') as writer:\n",
    "    writer.write('\"Name\":' + '\"' + Name + '\"' + ',\\n')\n",
    "    writer.write('\"Price\":' + '\"' + Price + '\"' + ',\\n') \n",
    "    writer.write('\"Images\":' + '[')\n",
    "    for image in Images:\n",
    "        writer.write( '\"' + image + '\"' ',')\n",
    "    writer.write( '] ,\\n')\n",
    "    writer.write('\"Brand\":' + '\"' + Brand + '\"' + ',\\n')\n",
    "    writer.write('\"Origin\":' + '\"' + Origin + '\"' + ',\\n')\n",
    "    writer.write('\"Size\":' + '\"' + Size + '\"' + ',\\n')\n",
    "    writer.write('\"Count\":' + '\"' + Count + '\"' + ',\\n')\n",
    "    writer.write('\"Component\":' + '\"' + Component + '\"' + ',\\n')\n",
    "    writer.write('\"UserGuide\":' + '\"' + UserGuide + '\"' + ',\\n')\n",
    "    writer.write('\"Description\":'+ '\"' + Description+ '\"' + ',\\n')\n",
    "\n",
    "# Products.append(prod)\n",
    "    \n",
    "driver.close()"
   ]
  },
  {
   "cell_type": "code",
   "execution_count": 24,
   "id": "831c78ab",
   "metadata": {},
   "outputs": [
    {
     "name": "stdout",
     "output_type": "stream",
     "text": [
      "{'name': 'hien', 'age': 18, 'arr': [1, 2, 3]}\n"
     ]
    }
   ],
   "source": [
    "a = {}\n",
    "a['name']= 'hien'\n",
    "a['age'] = 18\n",
    "a['arr']=[1,2,3]\n",
    "print(a)"
   ]
  },
  {
   "cell_type": "code",
   "execution_count": 13,
   "id": "d8b91e4b",
   "metadata": {},
   "outputs": [],
   "source": [
    "f = open('Products/Diapers.txt','w')\n",
    "f.write(\"hien is here\")\n",
    "f.close()"
   ]
  },
  {
   "cell_type": "code",
   "execution_count": null,
   "id": "b52f07af",
   "metadata": {},
   "outputs": [],
   "source": []
  }
 ],
 "metadata": {
  "kernelspec": {
   "display_name": "Python 3 (ipykernel)",
   "language": "python",
   "name": "python3"
  },
  "language_info": {
   "codemirror_mode": {
    "name": "ipython",
    "version": 3
   },
   "file_extension": ".py",
   "mimetype": "text/x-python",
   "name": "python",
   "nbconvert_exporter": "python",
   "pygments_lexer": "ipython3",
   "version": "3.8.8"
  }
 },
 "nbformat": 4,
 "nbformat_minor": 5
}
